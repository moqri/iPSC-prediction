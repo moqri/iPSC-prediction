{
 "cells": [
  {
   "cell_type": "code",
   "execution_count": 25,
   "metadata": {},
   "outputs": [],
   "source": [
    "import pandas as pd\n",
    "import sys,os\n",
    "sys.path.append(os.getcwd() + '/model')\n",
    "import web_methods\n",
    "def get_df(url):\n",
    "    df=pd.read_csv(url,sep='\\t',index_col=0)\n",
    "    df.index=df.index.str.split('.').str[0]\n",
    "    if 'tpm' in df.columns:\n",
    "        tpm='tpm'\n",
    "    else:\n",
    "        tpm='TPM'   \n",
    "    if df.index.name=='target_id' :\n",
    "        ens=pd.read_csv('data/mart_export.txt',sep='\\t',index_col=1)\n",
    "        ens=ens.rename(columns={'Gene name':'gene','Gene stable ID':'id'})\n",
    "        ens=ens[~ens.gene.str.startswith('MT')][~ens.gene.str.startswith('RP')][~ens.gene.str.startswith('AC')][~ens.gene.str.startswith('CTD-')]\n",
    "        df=df.merge(ens[['id']],left_index=True,right_index=True)\n",
    "        df=df.groupby('id').sum()  \n",
    "    return tpm, df"
   ]
  },
  {
   "cell_type": "code",
   "execution_count": 50,
   "metadata": {},
   "outputs": [],
   "source": [
    "top=pd.read_csv('data/top20tf.csv',index_col=0)\n",
    "topi=pd.read_csv('data/top20tf_ens.csv',index_col=0)['Gene stable ID'].values"
   ]
  },
  {
   "cell_type": "code",
   "execution_count": 52,
   "metadata": {},
   "outputs": [],
   "source": [
    "sample='https://www.dropbox.com/s/04m3bux63jo02zt/HPSI0114i-bezi_1.GRCh37.75.cdna.kallisto.transcripts.abundance.rnaseq.20150415.tsv?dl=1'\n",
    "#sample='https://ftp.ncbi.nlm.nih.gov/geo/samples/GSM3576nnn/GSM3576803/suppl/GSM3576803_00d5b244-97b4-42eb-9a21-370776533f09.tpm.tsv.gz'"
   ]
  },
  {
   "cell_type": "code",
   "execution_count": 53,
   "metadata": {},
   "outputs": [
    {
     "name": "stderr",
     "output_type": "stream",
     "text": [
      "<ipython-input-25-d41c6e3a1d12>:15: UserWarning: Boolean Series key will be reindexed to match DataFrame index.\n",
      "  ens=ens[~ens.gene.str.startswith('MT')][~ens.gene.str.startswith('RP')][~ens.gene.str.startswith('AC')][~ens.gene.str.startswith('CTD-')]\n"
     ]
    }
   ],
   "source": [
    "tpm, df=get_df(sample)"
   ]
  },
  {
   "cell_type": "code",
   "execution_count": 55,
   "metadata": {},
   "outputs": [
    {
     "name": "stdout",
     "output_type": "stream",
     "text": [
      "[1, 1449.7155600000003, 498.184, 314.67257600000005, 54.4109, 141.71218000000002, 83.8388406, 51.087762999999995, 21.907872, 129.36394499999997, 76.39993, 52.8787, 48.5156, 70.47117, 3.105754, 3.105754, 65.55078, 6.544725, 42.3241, 54.7433, 22.31601, 15.203901]\n"
     ]
    }
   ],
   "source": [
    "expr_list=[1]+df.loc[topi][tpm].values.tolist()\n",
    "print(expr_list)"
   ]
  },
  {
   "cell_type": "code",
   "execution_count": null,
   "metadata": {},
   "outputs": [],
   "source": [
    "web_methods.get_probability(expr_list, 'data/logistic_v1.joblib')"
   ]
  }
 ],
 "metadata": {
  "kernelspec": {
   "display_name": "Python 3",
   "language": "python",
   "name": "python3"
  },
  "language_info": {
   "codemirror_mode": {
    "name": "ipython",
    "version": 3
   },
   "file_extension": ".py",
   "mimetype": "text/x-python",
   "name": "python",
   "nbconvert_exporter": "python",
   "pygments_lexer": "ipython3",
   "version": "3.8.5"
  }
 },
 "nbformat": 4,
 "nbformat_minor": 4
}
