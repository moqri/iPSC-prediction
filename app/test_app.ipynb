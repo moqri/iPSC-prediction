{
 "cells": [
  {
   "cell_type": "code",
   "execution_count": 25,
   "metadata": {},
   "outputs": [],
   "source": [
    "import pandas as pd\n",
    "import sys,os\n",
    "sys.path.append(os.getcwd() + '/model')\n",
    "import web_methods\n",
    "def get_df(url):\n",
    "    df=pd.read_csv(url,sep='\\t',index_col=0)\n",
    "    df.index=df.index.str.split('.').str[0]\n",
    "    if 'tpm' in df.columns:\n",
    "        tpm='tpm'\n",
    "    else:\n",
    "        tpm='TPM'   \n",
    "    if df.index.name=='target_id' :\n",
    "        ens=pd.read_csv('data/mart_export.txt',sep='\\t',index_col=1)\n",
    "        ens=ens.rename(columns={'Gene name':'gene','Gene stable ID':'id'})\n",
    "        ens=ens[~ens.gene.str.startswith('MT')][~ens.gene.str.startswith('RP')][~ens.gene.str.startswith('AC')][~ens.gene.str.startswith('CTD-')]\n",
    "        df=df.merge(ens[['id']],left_index=True,right_index=True)\n",
    "        df=df.groupby('id').sum()  \n",
    "    return tpm, df"
   ]
  },
  {
   "cell_type": "code",
   "execution_count": 4,
   "metadata": {},
   "outputs": [],
   "source": [
    "top=pd.read_csv('data/top20.csv',index_col=0)\n",
    "topi=pd.read_csv('data/ens.csv',index_col=0,header=None)"
   ]
  },
  {
   "cell_type": "code",
   "execution_count": 6,
   "metadata": {},
   "outputs": [],
   "source": [
    "sample='https://ftp.ncbi.nlm.nih.gov/geo/samples/GSM3576nnn/GSM3576803/suppl/GSM3576803_00d5b244-97b4-42eb-9a21-370776533f09.tpm.tsv.gz'"
   ]
  },
  {
   "cell_type": "code",
   "execution_count": 7,
   "metadata": {},
   "outputs": [],
   "source": [
    "tpm, df=get_df(sample)"
   ]
  },
  {
   "cell_type": "code",
   "execution_count": 33,
   "metadata": {},
   "outputs": [
    {
     "name": "stdout",
     "output_type": "stream",
     "text": [
      "[1, 12853.84, 1854.84, 918.63, 1953.81, 2197.97, 3432.26, 1828.99, 1.11, 769.06, 2803.37, 951.58, 1466.05, 1522.57, 238.42, 388.65, 786.03, 331.05, 126.25, 864.56, 658.89]\n"
     ]
    }
   ],
   "source": [
    "expr_list=[1]+df.loc[topi.index][tpm].values.tolist()\n",
    "print(expr_list)"
   ]
  },
  {
   "cell_type": "code",
   "execution_count": 34,
   "metadata": {},
   "outputs": [
    {
     "data": {
      "text/plain": [
       "0.9999999999999529"
      ]
     },
     "execution_count": 34,
     "metadata": {},
     "output_type": "execute_result"
    }
   ],
   "source": [
    "web_methods.get_probability(expr_list, 'data/logistic_v1.joblib')"
   ]
  }
 ],
 "metadata": {
  "kernelspec": {
   "display_name": "Python 3",
   "language": "python",
   "name": "python3"
  },
  "language_info": {
   "codemirror_mode": {
    "name": "ipython",
    "version": 3
   },
   "file_extension": ".py",
   "mimetype": "text/x-python",
   "name": "python",
   "nbconvert_exporter": "python",
   "pygments_lexer": "ipython3",
   "version": "3.8.5"
  }
 },
 "nbformat": 4,
 "nbformat_minor": 4
}
