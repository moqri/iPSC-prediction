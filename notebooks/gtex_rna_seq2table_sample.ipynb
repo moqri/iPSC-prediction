{
 "cells": [
  {
   "cell_type": "code",
   "execution_count": 10,
   "metadata": {},
   "outputs": [],
   "source": [
    "import pandas as pd\n",
    "import random\n",
    "data='../data/'\n",
    "gtex_ftp='https://storage.googleapis.com/gtex_analysis_v8/rna_seq_data/GTEx_Analysis_2017-06-05_v8_RNASeQCv1.1.9_gene_tpm.gct.gz'\n",
    "gtex_samples='https://storage.googleapis.com/gtex_analysis_v8/annotations/GTEx_Analysis_v8_Annotations_SampleAttributesDS.txt'"
   ]
  },
  {
   "cell_type": "code",
   "execution_count": 7,
   "metadata": {},
   "outputs": [
    {
     "name": "stdout",
     "output_type": "stream",
     "text": [
      "  % Total    % Received % Xferd  Average Speed   Time    Time     Time  Current\n",
      "                                 Dload  Upload   Total   Spent    Left  Speed\n",
      "100 1550M  100 1550M    0     0  36.8M      0  0:00:42  0:00:42 --:--:-- 39.1M13.0M      0  0:01:59  0:00:01  0:01:58 12.9M    0     0  33.9M      0  0:00:45  0:00:14  0:00:31 32.9M  34.3M      0  0:00:45  0:00:15  0:00:30 32.9M    0  35.3M      0  0:00:43  0:00:23  0:00:20 38.6M  35.6M      0  0:00:43  0:00:25  0:00:18 38.3M\n"
     ]
    }
   ],
   "source": [
    "!curl \"{gtex_ftp}\" -o \"{data}gtex_trans.gct.gz\" #download data\n",
    "!gzip -d \"{data}gtex_trans.gct.gz\" #decompress "
   ]
  },
  {
   "cell_type": "code",
   "execution_count": 4,
   "metadata": {},
   "outputs": [],
   "source": [
    "all_cells=pd.read_csv(data+'gtex_trans.gct',sep='\\t',index_col=1,skiprows=2,nrows=0).columns"
   ]
  },
  {
   "cell_type": "code",
   "execution_count": 7,
   "metadata": {},
   "outputs": [
    {
     "name": "stdout",
     "output_type": "stream",
     "text": [
      "  % Total    % Received % Xferd  Average Speed   Time    Time     Time  Current\n",
      "                                 Dload  Upload   Total   Spent    Left  Speed\n",
      "100 10.9M  100 10.9M    0     0  9447k      0  0:00:01  0:00:01 --:--:-- 9455k\n"
     ]
    }
   ],
   "source": [
    "!curl {gtex_samples} -o \"{data}/samples.txt\""
   ]
  },
  {
   "cell_type": "code",
   "execution_count": 5,
   "metadata": {},
   "outputs": [],
   "source": [
    "cell_types=pd.read_csv(data+'samples.txt',sep='\\t',index_col=0)[['SMTSD']]\n",
    "cell='Cells - Cultured fibroblasts'\n",
    "fib=cell_types[cell_types.SMTSD==cell].index\n",
    "fib=[c for c in all_cells if c in fib]\n",
    "# df=pd.read_csv(data+'gtex_trans.gct',sep='\\t',index_col=0,skiprows=2,usecols=['Description']+fib)"
   ]
  },
  {
   "cell_type": "code",
   "execution_count": 26,
   "metadata": {},
   "outputs": [
    {
     "data": {
      "text/plain": [
       "Whole Blood                                  3288\n",
       "Muscle - Skeletal                            1132\n",
       "Lung                                          867\n",
       "Skin - Sun Exposed (Lower leg)                849\n",
       "Thyroid                                       812\n",
       "Artery - Tibial                               770\n",
       "Adipose - Subcutaneous                        763\n",
       "Nerve - Tibial                                722\n",
       "Heart - Left Ventricle                        689\n",
       "Skin - Not Sun Exposed (Suprapubic)           638\n",
       "Esophagus - Mucosa                            622\n",
       "Adipose - Visceral (Omentum)                  564\n",
       "Esophagus - Muscularis                        559\n",
       "Cells - Cultured fibroblasts                  527\n",
       "Breast - Mammary Tissue                       480\n",
       "Heart - Atrial Appendage                      452\n",
       "Artery - Aorta                                450\n",
       "Colon - Transverse                            432\n",
       "Brain - Frontal Cortex (BA9)                  425\n",
       "Testis                                        406\n",
       "Esophagus - Gastroesophageal Junction         401\n",
       "Colon - Sigmoid                               389\n",
       "Stomach                                       381\n",
       "Pancreas                                      360\n",
       "Brain - Cortex                                325\n",
       "Pituitary                                     301\n",
       "Brain - Cerebellum                            298\n",
       "Brain - Caudate (basal ganglia)               291\n",
       "Brain - Nucleus accumbens (basal ganglia)     277\n",
       "Adrenal Gland                                 275\n",
       "Brain - Cerebellar Hemisphere                 263\n",
       "Prostate                                      262\n",
       "Spleen                                        260\n",
       "Artery - Coronary                             253\n",
       "Liver                                         251\n",
       "Brain - Hippocampus                           243\n",
       "Brain - Hypothalamus                          236\n",
       "Brain - Putamen (basal ganglia)               232\n",
       "Cells - Leukemia cell line (CML)              217\n",
       "Brain - Anterior cingulate cortex (BA24)      213\n",
       "Ovary                                         195\n",
       "Small Intestine - Terminal Ileum              193\n",
       "Cells - EBV-transformed lymphocytes           192\n",
       "Brain - Spinal cord (cervical c-1)            182\n",
       "Minor Salivary Gland                          181\n",
       "Brain - Amygdala                              177\n",
       "Vagina                                        173\n",
       "Uterus                                        166\n",
       "Brain - Substantia nigra                      164\n",
       "Kidney - Cortex                               100\n",
       "Bladder                                        21\n",
       "Cervix - Endocervix                            10\n",
       "Fallopian Tube                                  9\n",
       "Cervix - Ectocervix                             9\n",
       "Kidney - Medulla                                4\n",
       "Name: SMTSD, dtype: int64"
      ]
     },
     "execution_count": 26,
     "metadata": {},
     "output_type": "execute_result"
    }
   ],
   "source": [
    "cell_types['SMTSD'].value_counts()"
   ]
  },
  {
   "cell_type": "code",
   "execution_count": 16,
   "metadata": {},
   "outputs": [
    {
     "data": {
      "text/plain": [
       "371"
      ]
     },
     "execution_count": 16,
     "metadata": {},
     "output_type": "execute_result"
    }
   ],
   "source": [
    "cell_type_list = cell_types['SMTSD'].value_counts().index.tolist()\n",
    "cell_type_sampling = []\n",
    "\n",
    "for cell_type in cell_type_list:\n",
    "    c_list=cell_types[cell_types.SMTSD==cell_type].index\n",
    "    c_t = [c for c in all_cells if c in c_list]\n",
    "    if len(c_t) < 7:\n",
    "        cell_type_sampling += []\n",
    "    else:\n",
    "        samp = random.sample(c_t, 7)\n",
    "        cell_type_sampling += samp\n",
    "len(cell_type_sampling)"
   ]
  },
  {
   "cell_type": "code",
   "execution_count": 17,
   "metadata": {},
   "outputs": [],
   "source": [
    "trans_data=pd.read_csv(data+'gtex_trans.gct',sep='\\t',index_col=0,skiprows=2,usecols=['Description']+cell_type_sampling)"
   ]
  },
  {
   "cell_type": "code",
   "execution_count": 19,
   "metadata": {
    "scrolled": true
   },
   "outputs": [
    {
     "data": {
      "text/plain": [
       "(56200, 371)"
      ]
     },
     "execution_count": 19,
     "metadata": {},
     "output_type": "execute_result"
    }
   ],
   "source": [
    "trans_data.shape"
   ]
  },
  {
   "cell_type": "code",
   "execution_count": 25,
   "metadata": {},
   "outputs": [],
   "source": [
    "fib=cell_types[cell_types.SMTSD==cell].index.to_list()\n",
    "fib=[c for c in all_cells if c in fib]"
   ]
  },
  {
   "cell_type": "code",
   "execution_count": 21,
   "metadata": {},
   "outputs": [],
   "source": [
    "trans_data.index=trans_data.index.str.split('.').str[0]"
   ]
  },
  {
   "cell_type": "code",
   "execution_count": 27,
   "metadata": {},
   "outputs": [],
   "source": [
    "trans_data.astype(float).round(2).T.to_csv(data+'all_tpm.csv.gz', compression='gzip')"
   ]
  },
  {
   "cell_type": "code",
   "execution_count": 28,
   "metadata": {},
   "outputs": [
    {
     "data": {
      "text/plain": [
       "(56200, 371)"
      ]
     },
     "execution_count": 28,
     "metadata": {},
     "output_type": "execute_result"
    }
   ],
   "source": [
    "trans_data.shape"
   ]
  },
  {
   "cell_type": "code",
   "execution_count": 34,
   "metadata": {},
   "outputs": [
    {
     "data": {
      "text/html": [
       "<div>\n",
       "<style scoped>\n",
       "    .dataframe tbody tr th:only-of-type {\n",
       "        vertical-align: middle;\n",
       "    }\n",
       "\n",
       "    .dataframe tbody tr th {\n",
       "        vertical-align: top;\n",
       "    }\n",
       "\n",
       "    .dataframe thead th {\n",
       "        text-align: right;\n",
       "    }\n",
       "</style>\n",
       "<table border=\"1\" class=\"dataframe\">\n",
       "  <thead>\n",
       "    <tr style=\"text-align: right;\">\n",
       "      <th></th>\n",
       "      <th>GTEX-111VG-0008-SM-5Q5BG</th>\n",
       "      <th>GTEX-111YS-0008-SM-5Q5BH</th>\n",
       "      <th>GTEX-1122O-0008-SM-5QGR2</th>\n",
       "      <th>GTEX-1128S-0008-SM-5Q5DP</th>\n",
       "      <th>GTEX-113IC-0008-SM-5QGRF</th>\n",
       "      <th>GTEX-113JC-0008-SM-5QGR6</th>\n",
       "      <th>GTEX-117XS-0008-SM-5Q5DQ</th>\n",
       "      <th>GTEX-117YW-0008-SM-5QGRD</th>\n",
       "      <th>GTEX-1192W-0008-SM-5QGRE</th>\n",
       "      <th>GTEX-1192X-0008-SM-5Q5B7</th>\n",
       "      <th>...</th>\n",
       "      <th>GTEX-ZVE2-0008-SM-51MRU</th>\n",
       "      <th>GTEX-ZVP2-0008-SM-51MSL</th>\n",
       "      <th>GTEX-ZVT2-0008-SM-57WC9</th>\n",
       "      <th>GTEX-ZVT3-0008-SM-51MRI</th>\n",
       "      <th>GTEX-ZVT4-0008-SM-57WCA</th>\n",
       "      <th>GTEX-ZVTK-0008-SM-57WDA</th>\n",
       "      <th>GTEX-ZVZP-0008-SM-51MSX</th>\n",
       "      <th>GTEX-ZVZQ-0008-SM-51MSK</th>\n",
       "      <th>GTEX-ZXES-0008-SM-57WCX</th>\n",
       "      <th>GTEX-ZXG5-0008-SM-57WDB</th>\n",
       "    </tr>\n",
       "    <tr>\n",
       "      <th>Description</th>\n",
       "      <th></th>\n",
       "      <th></th>\n",
       "      <th></th>\n",
       "      <th></th>\n",
       "      <th></th>\n",
       "      <th></th>\n",
       "      <th></th>\n",
       "      <th></th>\n",
       "      <th></th>\n",
       "      <th></th>\n",
       "      <th></th>\n",
       "      <th></th>\n",
       "      <th></th>\n",
       "      <th></th>\n",
       "      <th></th>\n",
       "      <th></th>\n",
       "      <th></th>\n",
       "      <th></th>\n",
       "      <th></th>\n",
       "      <th></th>\n",
       "      <th></th>\n",
       "    </tr>\n",
       "  </thead>\n",
       "  <tbody>\n",
       "    <tr>\n",
       "      <th>DDX11L1</th>\n",
       "      <td>0.0000</td>\n",
       "      <td>0.00</td>\n",
       "      <td>0.00000</td>\n",
       "      <td>0.000</td>\n",
       "      <td>0.00000</td>\n",
       "      <td>0.000</td>\n",
       "      <td>0.000</td>\n",
       "      <td>0.000</td>\n",
       "      <td>0.00000</td>\n",
       "      <td>0.000</td>\n",
       "      <td>...</td>\n",
       "      <td>0.00000</td>\n",
       "      <td>0.000</td>\n",
       "      <td>0.000</td>\n",
       "      <td>0.000</td>\n",
       "      <td>0.02379</td>\n",
       "      <td>0.000</td>\n",
       "      <td>0.000</td>\n",
       "      <td>0.00000</td>\n",
       "      <td>0.000</td>\n",
       "      <td>0.000</td>\n",
       "    </tr>\n",
       "    <tr>\n",
       "      <th>WASH7P</th>\n",
       "      <td>0.9979</td>\n",
       "      <td>1.25</td>\n",
       "      <td>0.78770</td>\n",
       "      <td>1.254</td>\n",
       "      <td>2.44100</td>\n",
       "      <td>1.907</td>\n",
       "      <td>2.037</td>\n",
       "      <td>1.666</td>\n",
       "      <td>2.03800</td>\n",
       "      <td>1.375</td>\n",
       "      <td>...</td>\n",
       "      <td>0.74300</td>\n",
       "      <td>1.781</td>\n",
       "      <td>1.108</td>\n",
       "      <td>1.133</td>\n",
       "      <td>1.98200</td>\n",
       "      <td>1.612</td>\n",
       "      <td>1.309</td>\n",
       "      <td>1.55000</td>\n",
       "      <td>0.748</td>\n",
       "      <td>1.391</td>\n",
       "    </tr>\n",
       "    <tr>\n",
       "      <th>MIR6859-1</th>\n",
       "      <td>0.0000</td>\n",
       "      <td>0.00</td>\n",
       "      <td>0.00000</td>\n",
       "      <td>0.000</td>\n",
       "      <td>0.00000</td>\n",
       "      <td>0.000</td>\n",
       "      <td>0.000</td>\n",
       "      <td>0.000</td>\n",
       "      <td>0.00000</td>\n",
       "      <td>0.000</td>\n",
       "      <td>...</td>\n",
       "      <td>0.00000</td>\n",
       "      <td>0.000</td>\n",
       "      <td>0.000</td>\n",
       "      <td>0.000</td>\n",
       "      <td>0.00000</td>\n",
       "      <td>0.000</td>\n",
       "      <td>0.000</td>\n",
       "      <td>0.00000</td>\n",
       "      <td>0.000</td>\n",
       "      <td>0.000</td>\n",
       "    </tr>\n",
       "    <tr>\n",
       "      <th>MIR1302-2HG</th>\n",
       "      <td>0.0000</td>\n",
       "      <td>0.00</td>\n",
       "      <td>0.00000</td>\n",
       "      <td>0.000</td>\n",
       "      <td>0.06567</td>\n",
       "      <td>0.000</td>\n",
       "      <td>0.000</td>\n",
       "      <td>0.000</td>\n",
       "      <td>0.07103</td>\n",
       "      <td>0.000</td>\n",
       "      <td>...</td>\n",
       "      <td>0.04747</td>\n",
       "      <td>0.000</td>\n",
       "      <td>0.000</td>\n",
       "      <td>0.000</td>\n",
       "      <td>0.04749</td>\n",
       "      <td>0.000</td>\n",
       "      <td>0.000</td>\n",
       "      <td>0.04571</td>\n",
       "      <td>0.000</td>\n",
       "      <td>0.000</td>\n",
       "    </tr>\n",
       "    <tr>\n",
       "      <th>FAM138A</th>\n",
       "      <td>0.0000</td>\n",
       "      <td>0.00</td>\n",
       "      <td>0.05363</td>\n",
       "      <td>0.000</td>\n",
       "      <td>0.00000</td>\n",
       "      <td>0.000</td>\n",
       "      <td>0.000</td>\n",
       "      <td>0.000</td>\n",
       "      <td>0.00000</td>\n",
       "      <td>0.000</td>\n",
       "      <td>...</td>\n",
       "      <td>0.03373</td>\n",
       "      <td>0.000</td>\n",
       "      <td>0.000</td>\n",
       "      <td>0.000</td>\n",
       "      <td>0.00000</td>\n",
       "      <td>0.000</td>\n",
       "      <td>0.000</td>\n",
       "      <td>0.00000</td>\n",
       "      <td>0.000</td>\n",
       "      <td>0.000</td>\n",
       "    </tr>\n",
       "  </tbody>\n",
       "</table>\n",
       "<p>5 rows × 504 columns</p>\n",
       "</div>"
      ],
      "text/plain": [
       "             GTEX-111VG-0008-SM-5Q5BG  GTEX-111YS-0008-SM-5Q5BH  \\\n",
       "Description                                                       \n",
       "DDX11L1                        0.0000                      0.00   \n",
       "WASH7P                         0.9979                      1.25   \n",
       "MIR6859-1                      0.0000                      0.00   \n",
       "MIR1302-2HG                    0.0000                      0.00   \n",
       "FAM138A                        0.0000                      0.00   \n",
       "\n",
       "             GTEX-1122O-0008-SM-5QGR2  GTEX-1128S-0008-SM-5Q5DP  \\\n",
       "Description                                                       \n",
       "DDX11L1                       0.00000                     0.000   \n",
       "WASH7P                        0.78770                     1.254   \n",
       "MIR6859-1                     0.00000                     0.000   \n",
       "MIR1302-2HG                   0.00000                     0.000   \n",
       "FAM138A                       0.05363                     0.000   \n",
       "\n",
       "             GTEX-113IC-0008-SM-5QGRF  GTEX-113JC-0008-SM-5QGR6  \\\n",
       "Description                                                       \n",
       "DDX11L1                       0.00000                     0.000   \n",
       "WASH7P                        2.44100                     1.907   \n",
       "MIR6859-1                     0.00000                     0.000   \n",
       "MIR1302-2HG                   0.06567                     0.000   \n",
       "FAM138A                       0.00000                     0.000   \n",
       "\n",
       "             GTEX-117XS-0008-SM-5Q5DQ  GTEX-117YW-0008-SM-5QGRD  \\\n",
       "Description                                                       \n",
       "DDX11L1                         0.000                     0.000   \n",
       "WASH7P                          2.037                     1.666   \n",
       "MIR6859-1                       0.000                     0.000   \n",
       "MIR1302-2HG                     0.000                     0.000   \n",
       "FAM138A                         0.000                     0.000   \n",
       "\n",
       "             GTEX-1192W-0008-SM-5QGRE  GTEX-1192X-0008-SM-5Q5B7  ...  \\\n",
       "Description                                                      ...   \n",
       "DDX11L1                       0.00000                     0.000  ...   \n",
       "WASH7P                        2.03800                     1.375  ...   \n",
       "MIR6859-1                     0.00000                     0.000  ...   \n",
       "MIR1302-2HG                   0.07103                     0.000  ...   \n",
       "FAM138A                       0.00000                     0.000  ...   \n",
       "\n",
       "             GTEX-ZVE2-0008-SM-51MRU  GTEX-ZVP2-0008-SM-51MSL  \\\n",
       "Description                                                     \n",
       "DDX11L1                      0.00000                    0.000   \n",
       "WASH7P                       0.74300                    1.781   \n",
       "MIR6859-1                    0.00000                    0.000   \n",
       "MIR1302-2HG                  0.04747                    0.000   \n",
       "FAM138A                      0.03373                    0.000   \n",
       "\n",
       "             GTEX-ZVT2-0008-SM-57WC9  GTEX-ZVT3-0008-SM-51MRI  \\\n",
       "Description                                                     \n",
       "DDX11L1                        0.000                    0.000   \n",
       "WASH7P                         1.108                    1.133   \n",
       "MIR6859-1                      0.000                    0.000   \n",
       "MIR1302-2HG                    0.000                    0.000   \n",
       "FAM138A                        0.000                    0.000   \n",
       "\n",
       "             GTEX-ZVT4-0008-SM-57WCA  GTEX-ZVTK-0008-SM-57WDA  \\\n",
       "Description                                                     \n",
       "DDX11L1                      0.02379                    0.000   \n",
       "WASH7P                       1.98200                    1.612   \n",
       "MIR6859-1                    0.00000                    0.000   \n",
       "MIR1302-2HG                  0.04749                    0.000   \n",
       "FAM138A                      0.00000                    0.000   \n",
       "\n",
       "             GTEX-ZVZP-0008-SM-51MSX  GTEX-ZVZQ-0008-SM-51MSK  \\\n",
       "Description                                                     \n",
       "DDX11L1                        0.000                  0.00000   \n",
       "WASH7P                         1.309                  1.55000   \n",
       "MIR6859-1                      0.000                  0.00000   \n",
       "MIR1302-2HG                    0.000                  0.04571   \n",
       "FAM138A                        0.000                  0.00000   \n",
       "\n",
       "             GTEX-ZXES-0008-SM-57WCX  GTEX-ZXG5-0008-SM-57WDB  \n",
       "Description                                                    \n",
       "DDX11L1                        0.000                    0.000  \n",
       "WASH7P                         0.748                    1.391  \n",
       "MIR6859-1                      0.000                    0.000  \n",
       "MIR1302-2HG                    0.000                    0.000  \n",
       "FAM138A                        0.000                    0.000  \n",
       "\n",
       "[5 rows x 504 columns]"
      ]
     },
     "execution_count": 34,
     "metadata": {},
     "output_type": "execute_result"
    }
   ],
   "source": [
    "df.head()"
   ]
  },
  {
   "cell_type": "code",
   "execution_count": 30,
   "metadata": {},
   "outputs": [],
   "source": [
    "df.astype(float).round(2).T.head(100).to_csv(data+'fib_tpm.csv.gz', compression='gzip')"
   ]
  },
  {
   "cell_type": "code",
   "execution_count": 118,
   "metadata": {},
   "outputs": [],
   "source": [
    "#if we need lymphocyte in future\n",
    "def get_lym:\n",
    "    cell='Cells - EBV-transformed lymphocytes'\n",
    "    lym=cell_types[cell_types.SMTSD==cell].index.to_list()\n",
    "    lym=[c for c in all_cells if c in lym]\n",
    "    df=pd.read_csv(data+'gtex.gct',sep='\\t',index_col=0,skiprows=2,usecols=['Name','Description']+lym)\n",
    "    df=df.groupby('Description').sum()\n",
    "    df.T.to_csv('../data/lym_tpm.csv')"
   ]
  },
  {
   "cell_type": "code",
   "execution_count": null,
   "metadata": {},
   "outputs": [],
   "source": [
    "# if transcripts level data needed in future\n",
    "def get_gtex_trans:\n",
    "    gtex_trans='https://storage.googleapis.com/gtex_analysis_v8/rna_seq_data/GTEx_Analysis_2017-06-05_v8_RSEMv1.3.0_transcript_tpm.gct.gz'\n",
    "    #!wget -O \"{data}gtex_trans.gct.gz\" -nc \"{gtex_trans}\"\n",
    "    #!gzip -d \"{data}gtex_trans.gct.gz\"\n",
    "    all_cells=pd.read_csv(data+'gtex_trans.gct',sep='\\t',skiprows=2,nrows=0).columns\n",
    "    cell_types=pd.read_csv('https://storage.googleapis.com/gtex_analysis_v8/annotations/GTEx_Analysis_v8_Annotations_SampleAttributesDS.txt',sep='\\t',index_col=0)[['SMTSD']]\n",
    "    cell='Cells - Cultured fibroblasts'\n",
    "    fib=cell_types[cell_types.SMTSD==cell].index.to_list()\n",
    "    fib=[c for c in all_cells if c in fib]\n",
    "    df=pd.read_csv(data+'gtex_trans.gct',sep='\\t',index_col=0,skiprows=2,usecols=['transcript_id']+fib)"
   ]
  }
 ],
 "metadata": {
  "kernelspec": {
   "display_name": "Python 3",
   "language": "python",
   "name": "python3"
  },
  "language_info": {
   "codemirror_mode": {
    "name": "ipython",
    "version": 3
   },
   "file_extension": ".py",
   "mimetype": "text/x-python",
   "name": "python",
   "nbconvert_exporter": "python",
   "pygments_lexer": "ipython3",
   "version": "3.7.1"
  }
 },
 "nbformat": 4,
 "nbformat_minor": 5
}
