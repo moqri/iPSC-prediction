{
 "cells": [
  {
   "cell_type": "code",
   "execution_count": 1,
   "metadata": {},
   "outputs": [],
   "source": [
    "import pandas as pd\n",
    "from sklearn.linear_model import LogisticRegression"
   ]
  },
  {
   "cell_type": "code",
   "execution_count": 2,
   "metadata": {},
   "outputs": [],
   "source": [
    "data='../data/'"
   ]
  },
  {
   "cell_type": "code",
   "execution_count": 3,
   "metadata": {},
   "outputs": [
    {
     "data": {
      "text/html": [
       "<div>\n",
       "<style scoped>\n",
       "    .dataframe tbody tr th:only-of-type {\n",
       "        vertical-align: middle;\n",
       "    }\n",
       "\n",
       "    .dataframe tbody tr th {\n",
       "        vertical-align: top;\n",
       "    }\n",
       "\n",
       "    .dataframe thead th {\n",
       "        text-align: right;\n",
       "    }\n",
       "</style>\n",
       "<table border=\"1\" class=\"dataframe\">\n",
       "  <thead>\n",
       "    <tr style=\"text-align: right;\">\n",
       "      <th></th>\n",
       "      <th>Unnamed: 0</th>\n",
       "      <th>A1BG</th>\n",
       "      <th>A1CF</th>\n",
       "      <th>A2M</th>\n",
       "      <th>A2ML1</th>\n",
       "      <th>A2MP1</th>\n",
       "      <th>A3GALT2</th>\n",
       "      <th>A4GALT</th>\n",
       "      <th>A4GNT</th>\n",
       "      <th>AAAS</th>\n",
       "      <th>...</th>\n",
       "      <th>ZYX</th>\n",
       "      <th>ZZEF1</th>\n",
       "      <th>ZZZ3</th>\n",
       "      <th>bP-21201H5.1</th>\n",
       "      <th>hsa-mir-1199</th>\n",
       "      <th>hsa-mir-150</th>\n",
       "      <th>hsa-mir-6723</th>\n",
       "      <th>hsa-mir-7162</th>\n",
       "      <th>hsa-mir-8078</th>\n",
       "      <th>yR211F11.2</th>\n",
       "    </tr>\n",
       "  </thead>\n",
       "  <tbody>\n",
       "    <tr>\n",
       "      <th>0</th>\n",
       "      <td>HPSI1213i-xuja_2</td>\n",
       "      <td>21.10</td>\n",
       "      <td>0.05</td>\n",
       "      <td>2.35</td>\n",
       "      <td>1.59</td>\n",
       "      <td>0.57</td>\n",
       "      <td>0.0</td>\n",
       "      <td>3.89</td>\n",
       "      <td>0.00</td>\n",
       "      <td>66.48</td>\n",
       "      <td>...</td>\n",
       "      <td>122.77</td>\n",
       "      <td>9.64</td>\n",
       "      <td>45.99</td>\n",
       "      <td>0.0</td>\n",
       "      <td>0.98</td>\n",
       "      <td>0.00</td>\n",
       "      <td>6.49</td>\n",
       "      <td>0.02</td>\n",
       "      <td>0.00</td>\n",
       "      <td>0.0</td>\n",
       "    </tr>\n",
       "    <tr>\n",
       "      <th>1</th>\n",
       "      <td>HPSI0614i-voce_2</td>\n",
       "      <td>7.71</td>\n",
       "      <td>0.03</td>\n",
       "      <td>1.47</td>\n",
       "      <td>4.97</td>\n",
       "      <td>0.17</td>\n",
       "      <td>0.0</td>\n",
       "      <td>18.68</td>\n",
       "      <td>0.02</td>\n",
       "      <td>60.88</td>\n",
       "      <td>...</td>\n",
       "      <td>140.62</td>\n",
       "      <td>10.98</td>\n",
       "      <td>47.45</td>\n",
       "      <td>0.0</td>\n",
       "      <td>0.81</td>\n",
       "      <td>0.03</td>\n",
       "      <td>0.97</td>\n",
       "      <td>0.00</td>\n",
       "      <td>0.09</td>\n",
       "      <td>0.0</td>\n",
       "    </tr>\n",
       "    <tr>\n",
       "      <th>2</th>\n",
       "      <td>HPSI0814i-doao_2</td>\n",
       "      <td>19.51</td>\n",
       "      <td>0.11</td>\n",
       "      <td>1.27</td>\n",
       "      <td>2.48</td>\n",
       "      <td>0.41</td>\n",
       "      <td>0.0</td>\n",
       "      <td>14.46</td>\n",
       "      <td>0.03</td>\n",
       "      <td>69.83</td>\n",
       "      <td>...</td>\n",
       "      <td>135.81</td>\n",
       "      <td>7.13</td>\n",
       "      <td>34.16</td>\n",
       "      <td>0.0</td>\n",
       "      <td>1.97</td>\n",
       "      <td>0.00</td>\n",
       "      <td>10.02</td>\n",
       "      <td>0.12</td>\n",
       "      <td>0.00</td>\n",
       "      <td>0.0</td>\n",
       "    </tr>\n",
       "    <tr>\n",
       "      <th>3</th>\n",
       "      <td>HPSI0314i-sojd_3</td>\n",
       "      <td>17.89</td>\n",
       "      <td>0.02</td>\n",
       "      <td>0.90</td>\n",
       "      <td>3.83</td>\n",
       "      <td>0.16</td>\n",
       "      <td>0.0</td>\n",
       "      <td>10.17</td>\n",
       "      <td>0.00</td>\n",
       "      <td>64.00</td>\n",
       "      <td>...</td>\n",
       "      <td>107.31</td>\n",
       "      <td>8.47</td>\n",
       "      <td>30.73</td>\n",
       "      <td>0.0</td>\n",
       "      <td>2.67</td>\n",
       "      <td>0.05</td>\n",
       "      <td>4.31</td>\n",
       "      <td>0.00</td>\n",
       "      <td>0.19</td>\n",
       "      <td>0.0</td>\n",
       "    </tr>\n",
       "    <tr>\n",
       "      <th>4</th>\n",
       "      <td>HPSI0114i-lexy_2</td>\n",
       "      <td>14.99</td>\n",
       "      <td>0.01</td>\n",
       "      <td>0.33</td>\n",
       "      <td>1.30</td>\n",
       "      <td>0.05</td>\n",
       "      <td>0.0</td>\n",
       "      <td>3.97</td>\n",
       "      <td>0.03</td>\n",
       "      <td>56.34</td>\n",
       "      <td>...</td>\n",
       "      <td>142.51</td>\n",
       "      <td>5.30</td>\n",
       "      <td>33.03</td>\n",
       "      <td>0.0</td>\n",
       "      <td>0.42</td>\n",
       "      <td>0.05</td>\n",
       "      <td>3.83</td>\n",
       "      <td>0.03</td>\n",
       "      <td>0.00</td>\n",
       "      <td>0.0</td>\n",
       "    </tr>\n",
       "  </tbody>\n",
       "</table>\n",
       "<p>5 rows × 35050 columns</p>\n",
       "</div>"
      ],
      "text/plain": [
       "         Unnamed: 0   A1BG  A1CF   A2M  A2ML1  A2MP1  A3GALT2  A4GALT  A4GNT  \\\n",
       "0  HPSI1213i-xuja_2  21.10  0.05  2.35   1.59   0.57      0.0    3.89   0.00   \n",
       "1  HPSI0614i-voce_2   7.71  0.03  1.47   4.97   0.17      0.0   18.68   0.02   \n",
       "2  HPSI0814i-doao_2  19.51  0.11  1.27   2.48   0.41      0.0   14.46   0.03   \n",
       "3  HPSI0314i-sojd_3  17.89  0.02  0.90   3.83   0.16      0.0   10.17   0.00   \n",
       "4  HPSI0114i-lexy_2  14.99  0.01  0.33   1.30   0.05      0.0    3.97   0.03   \n",
       "\n",
       "    AAAS     ...         ZYX  ZZEF1   ZZZ3  bP-21201H5.1  hsa-mir-1199  \\\n",
       "0  66.48     ...      122.77   9.64  45.99           0.0          0.98   \n",
       "1  60.88     ...      140.62  10.98  47.45           0.0          0.81   \n",
       "2  69.83     ...      135.81   7.13  34.16           0.0          1.97   \n",
       "3  64.00     ...      107.31   8.47  30.73           0.0          2.67   \n",
       "4  56.34     ...      142.51   5.30  33.03           0.0          0.42   \n",
       "\n",
       "   hsa-mir-150  hsa-mir-6723  hsa-mir-7162  hsa-mir-8078  yR211F11.2  \n",
       "0         0.00          6.49          0.02          0.00         0.0  \n",
       "1         0.03          0.97          0.00          0.09         0.0  \n",
       "2         0.00         10.02          0.12          0.00         0.0  \n",
       "3         0.05          4.31          0.00          0.19         0.0  \n",
       "4         0.05          3.83          0.03          0.00         0.0  \n",
       "\n",
       "[5 rows x 35050 columns]"
      ]
     },
     "execution_count": 3,
     "metadata": {},
     "output_type": "execute_result"
    }
   ],
   "source": [
    "ipsc_trans = pd.read_csv(data+'ips_tpm.csv')\n",
    "ipsc_trans.head()"
   ]
  },
  {
   "cell_type": "code",
   "execution_count": null,
   "metadata": {},
   "outputs": [
    {
     "data": {
      "text/plain": [
       "(330, 35050)"
      ]
     },
     "execution_count": 4,
     "metadata": {},
     "output_type": "execute_result"
    }
   ],
   "source": [
    "ipsc_trans.shape"
   ]
  },
  {
   "cell_type": "code",
   "execution_count": null,
   "metadata": {},
   "outputs": [],
   "source": [
    "fib_trans = pd.read_csv(data+'fib_tpm.csv.gz', compression='gzip')\n",
    "fib_trans.head()"
   ]
  },
  {
   "cell_type": "code",
   "execution_count": null,
   "metadata": {},
   "outputs": [],
   "source": [
    "ipsc_tnames = ipsc_trans.columns\n",
    "fib_tnames = fib_trans.columns\n",
    "common_tnames = ipsc_tnames.intersection(fib_tnames)"
   ]
  },
  {
   "cell_type": "code",
   "execution_count": null,
   "metadata": {},
   "outputs": [],
   "source": [
    "classifier_tnames = common_tnames[1:20]\n",
    "classifier_tnames"
   ]
  },
  {
   "cell_type": "code",
   "execution_count": null,
   "metadata": {},
   "outputs": [],
   "source": [
    "fib_20 = fib_trans[classifier_tnames]\n",
    "ipsc_20 = ipsc_trans[classifier_tnames]"
   ]
  },
  {
   "cell_type": "code",
   "execution_count": null,
   "metadata": {},
   "outputs": [],
   "source": [
    "fib_20['label'] = 0\n",
    "ipsc_20['label'] = 1\n",
    "data_20 = fib_20.append(ipsc_20, ignore_index=True)\n",
    "data_shuffled = data_20.sample(frac=1)"
   ]
  },
  {
   "cell_type": "code",
   "execution_count": null,
   "metadata": {},
   "outputs": [],
   "source": [
    "data_shuffled.shape"
   ]
  },
  {
   "cell_type": "code",
   "execution_count": null,
   "metadata": {},
   "outputs": [],
   "source": [
    "train_set = data_shuffled.iloc[:287,:]\n",
    "test_set = data_shuffled.iloc[287:,:]"
   ]
  },
  {
   "cell_type": "code",
   "execution_count": null,
   "metadata": {},
   "outputs": [],
   "source": [
    "X_train = train_set.iloc[:,:-1]\n",
    "y_train = train_set.iloc[:,-1]"
   ]
  },
  {
   "cell_type": "code",
   "execution_count": null,
   "metadata": {},
   "outputs": [],
   "source": [
    "X_test = test_set.iloc[:,:-1]\n",
    "y_test = test_set.iloc[:,-1]"
   ]
  },
  {
   "cell_type": "code",
   "execution_count": null,
   "metadata": {},
   "outputs": [],
   "source": [
    "clf = LogisticRegression(random_state=0).fit(X_train, y_train)\n",
    "y_pred = clf.predict(X_test)"
   ]
  },
  {
   "cell_type": "code",
   "execution_count": null,
   "metadata": {},
   "outputs": [],
   "source": [
    "y_probs = clf.predict_proba(X_test)"
   ]
  },
  {
   "cell_type": "code",
   "execution_count": null,
   "metadata": {},
   "outputs": [],
   "source": [
    "# accuracy\n",
    "true_list = y_test-y_pred == 0\n",
    "(sum(true_list == 1))/len(true_list == 1)"
   ]
  },
  {
   "cell_type": "code",
   "execution_count": null,
   "metadata": {},
   "outputs": [],
   "source": []
  }
 ],
 "metadata": {
  "kernelspec": {
   "display_name": "Python 3",
   "language": "python",
   "name": "python3"
  },
  "language_info": {
   "codemirror_mode": {
    "name": "ipython",
    "version": 3
   },
   "file_extension": ".py",
   "mimetype": "text/x-python",
   "name": "python",
   "nbconvert_exporter": "python",
   "pygments_lexer": "ipython3",
   "version": "3.7.1"
  }
 },
 "nbformat": 4,
 "nbformat_minor": 2
}
