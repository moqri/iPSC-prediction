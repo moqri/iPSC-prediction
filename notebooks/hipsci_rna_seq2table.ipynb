{
 "cells": [
  {
   "cell_type": "code",
   "execution_count": 2,
   "metadata": {},
   "outputs": [],
   "source": [
    "# import libraries\n",
    "import pandas as pd\n",
    "import numpy as np\n",
    "import glob, os\n",
    "data='../data/'"
   ]
  },
  {
   "cell_type": "code",
   "execution_count": 3,
   "metadata": {
    "tags": []
   },
   "outputs": [
    {
     "name": "stdout",
     "output_type": "stream",
     "text": [
      "--2021-04-16 15:54:42--  ftp://ftp.sra.ebi.ac.uk/vol1/ERZ267/ERZ267062/*.tsv\n",
      "           => ‘../data//tpm/.listing’\n",
      "Resolving ftp.sra.ebi.ac.uk (ftp.sra.ebi.ac.uk)... 193.62.197.74\n",
      "Connecting to ftp.sra.ebi.ac.uk (ftp.sra.ebi.ac.uk)|193.62.197.74|:21... connected.\n",
      "Logging in as anonymous ... Logged in!\n",
      "==> SYST ... done.    ==> PWD ... done.\n",
      "==> TYPE I ... done.  ==> CWD (1) /vol1/ERZ267/ERZ267062 ... done.\n",
      "==> PASV ... done.    ==> LIST ... done.\n",
      "\n",
      ".listing                [  <=>               ]     330  1.15KB/s    in 0.3s    \n",
      "\n",
      "2021-04-16 15:54:44 (1.15 KB/s) - ‘../data//tpm/.listing’ saved [330]\n",
      "\n",
      "Removed ‘../data//tpm/.listing’.\n",
      "File ‘../data//tpm/HPSI0114i-bezi_1.GRCh37.75.cdna.kallisto.transcripts.abundance.rnaseq.20150415.tsv’ already there; not retrieving.\n"
     ]
    }
   ],
   "source": [
    "# download data\n",
    "hip=pd.read_csv(data+'hipsci_files.tsv',sep='\\t',index_col=0) # hipsci_files.tsv file is exported from https://www.hipsci.org/lines/#/lines \n",
    "ftps=hip['FTP url'].values\n",
    "n=1                           # set n equal to 330 to download all the data \n",
    "for ftp in ftps[0:n]: \n",
    "    !wget -nc -P {data}/tpm {ftp+'*.tsv'}"
   ]
  },
  {
   "cell_type": "code",
   "execution_count": 4,
   "metadata": {
    "tags": []
   },
   "outputs": [],
   "source": [
    "# compine them into a list of list\n",
    "ips=[]\n",
    "cells=[]\n",
    "for file in glob.glob(data+\"tpm/*.tsv\"):\n",
    "    cells.append(file.split('.GRCh37.')[0].split('tpm/')[1])\n",
    "    ip=pd.read_csv(file,sep='\\t',index_col=0)[['tpm']].round(2)  \n",
    "    ip=ip.tpm.values\n",
    "    ips.append(ip)\n",
    "ind=pd.read_csv(file,sep='\\t',index_col=0).index"
   ]
  },
  {
   "cell_type": "code",
   "execution_count": 5,
   "metadata": {},
   "outputs": [
    {
     "data": {
      "text/plain": [
       "(179659, 8)"
      ]
     },
     "execution_count": 5,
     "metadata": {},
     "output_type": "execute_result"
    }
   ],
   "source": [
    "# convert it into pandas\n",
    "df=pd.DataFrame(ips)\n",
    "df.columns=ind\n",
    "df.index=cells\n",
    "df=df.T\n",
    "df.shape"
   ]
  },
  {
   "cell_type": "code",
   "execution_count": 6,
   "metadata": {},
   "outputs": [
    {
     "name": "stdout",
     "output_type": "stream",
     "text": [
      "(215170, 2)\n"
     ]
    }
   ],
   "source": [
    "#get ENS to Gene mapping data and mapp\n",
    "ens=pd.read_csv(data+'mart_export.txt.gz',sep='\\t',index_col=1) # mart_export file exported from http://www.ensembl.org/biomart/martview/\n",
    "ens=ens.rename(columns={'Gene name':'gene','Gene stable ID':'id'})\n",
    "print(ens.shape)\n",
    "df=df.merge(ens[['gene']],left_index=True,right_index=True)"
   ]
  },
  {
   "cell_type": "code",
   "execution_count": 8,
   "metadata": {},
   "outputs": [],
   "source": [
    "#aggregate transcripts to get gene level data and write it into a combined table\n",
    "dg=df.groupby('gene').sum()\n",
    "dg.T.to_csv(data+'ips_tpm.csv.gz', compression='gzip')"
   ]
  },
  {
   "cell_type": "code",
   "execution_count": 9,
   "metadata": {},
   "outputs": [
    {
     "data": {
      "text/html": [
       "<div>\n",
       "<style scoped>\n",
       "    .dataframe tbody tr th:only-of-type {\n",
       "        vertical-align: middle;\n",
       "    }\n",
       "\n",
       "    .dataframe tbody tr th {\n",
       "        vertical-align: top;\n",
       "    }\n",
       "\n",
       "    .dataframe thead th {\n",
       "        text-align: right;\n",
       "    }\n",
       "</style>\n",
       "<table border=\"1\" class=\"dataframe\">\n",
       "  <thead>\n",
       "    <tr style=\"text-align: right;\">\n",
       "      <th></th>\n",
       "      <th>HPSI0114i-iisa_1</th>\n",
       "      <th>HPSI0114i-bezi_3</th>\n",
       "      <th>HPSI0114i-joxm_1</th>\n",
       "      <th>HPSI0114i-iisa_3</th>\n",
       "      <th>HPSI0114i-eipl_1</th>\n",
       "      <th>HPSI0114i-eipl_3</th>\n",
       "      <th>HPSI0114i-bezi_1</th>\n",
       "      <th>HPSI0114i-fikt_3</th>\n",
       "    </tr>\n",
       "    <tr>\n",
       "      <th>gene</th>\n",
       "      <th></th>\n",
       "      <th></th>\n",
       "      <th></th>\n",
       "      <th></th>\n",
       "      <th></th>\n",
       "      <th></th>\n",
       "      <th></th>\n",
       "      <th></th>\n",
       "    </tr>\n",
       "  </thead>\n",
       "  <tbody>\n",
       "    <tr>\n",
       "      <th>A1BG</th>\n",
       "      <td>0.0</td>\n",
       "      <td>22.23</td>\n",
       "      <td>23.79</td>\n",
       "      <td>0.0</td>\n",
       "      <td>16.28</td>\n",
       "      <td>17.15</td>\n",
       "      <td>29.22</td>\n",
       "      <td>20.40</td>\n",
       "    </tr>\n",
       "    <tr>\n",
       "      <th>A1CF</th>\n",
       "      <td>0.0</td>\n",
       "      <td>0.05</td>\n",
       "      <td>0.07</td>\n",
       "      <td>0.0</td>\n",
       "      <td>0.06</td>\n",
       "      <td>0.02</td>\n",
       "      <td>0.05</td>\n",
       "      <td>0.05</td>\n",
       "    </tr>\n",
       "    <tr>\n",
       "      <th>A2M</th>\n",
       "      <td>0.0</td>\n",
       "      <td>0.47</td>\n",
       "      <td>0.94</td>\n",
       "      <td>0.0</td>\n",
       "      <td>9.33</td>\n",
       "      <td>1.52</td>\n",
       "      <td>0.58</td>\n",
       "      <td>0.28</td>\n",
       "    </tr>\n",
       "    <tr>\n",
       "      <th>A2ML1</th>\n",
       "      <td>0.0</td>\n",
       "      <td>2.14</td>\n",
       "      <td>9.94</td>\n",
       "      <td>0.0</td>\n",
       "      <td>2.91</td>\n",
       "      <td>2.25</td>\n",
       "      <td>2.80</td>\n",
       "      <td>4.28</td>\n",
       "    </tr>\n",
       "    <tr>\n",
       "      <th>A2MP1</th>\n",
       "      <td>0.0</td>\n",
       "      <td>0.45</td>\n",
       "      <td>0.05</td>\n",
       "      <td>0.0</td>\n",
       "      <td>0.29</td>\n",
       "      <td>0.25</td>\n",
       "      <td>0.32</td>\n",
       "      <td>0.27</td>\n",
       "    </tr>\n",
       "  </tbody>\n",
       "</table>\n",
       "</div>"
      ],
      "text/plain": [
       "       HPSI0114i-iisa_1  HPSI0114i-bezi_3  HPSI0114i-joxm_1  HPSI0114i-iisa_3  \\\n",
       "gene                                                                            \n",
       "A1BG                0.0             22.23             23.79               0.0   \n",
       "A1CF                0.0              0.05              0.07               0.0   \n",
       "A2M                 0.0              0.47              0.94               0.0   \n",
       "A2ML1               0.0              2.14              9.94               0.0   \n",
       "A2MP1               0.0              0.45              0.05               0.0   \n",
       "\n",
       "       HPSI0114i-eipl_1  HPSI0114i-eipl_3  HPSI0114i-bezi_1  HPSI0114i-fikt_3  \n",
       "gene                                                                           \n",
       "A1BG              16.28             17.15             29.22             20.40  \n",
       "A1CF               0.06              0.02              0.05              0.05  \n",
       "A2M                9.33              1.52              0.58              0.28  \n",
       "A2ML1              2.91              2.25              2.80              4.28  \n",
       "A2MP1              0.29              0.25              0.32              0.27  "
      ]
     },
     "execution_count": 9,
     "metadata": {},
     "output_type": "execute_result"
    }
   ],
   "source": [
    "#top few rows\n",
    "dg.head()"
   ]
  }
 ],
 "metadata": {
  "kernelspec": {
   "display_name": "Python 3",
   "language": "python",
   "name": "python3"
  },
  "language_info": {
   "codemirror_mode": {
    "name": "ipython",
    "version": 3
   },
   "file_extension": ".py",
   "mimetype": "text/x-python",
   "name": "python",
   "nbconvert_exporter": "python",
   "pygments_lexer": "ipython3",
   "version": "3.8.5"
  }
 },
 "nbformat": 4,
 "nbformat_minor": 5
}
